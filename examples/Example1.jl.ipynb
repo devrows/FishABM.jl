{
 "metadata": {
  "language": "Julia",
  "name": "",
  "signature": "sha256:42e4f7e5b93a9fa8af5057fddf35730dfdca32bb9e53f2b4588f46efe9216410"
 },
 "nbformat": 3,
 "nbformat_minor": 0,
 "worksheets": [
  {
   "cells": [
    {
     "cell_type": "markdown",
     "metadata": {},
     "source": [
      "Load required packages"
     ]
    },
    {
     "cell_type": "code",
     "collapsed": false,
     "input": [
      "using DataFrames, Gadfly, FishABM"
     ],
     "language": "python",
     "metadata": {},
     "outputs": []
    },
    {
     "cell_type": "markdown",
     "metadata": {},
     "source": [
      "Specify stock assumptions:\n",
      "\n",
      "* Age specific mortality\n",
      "* Age at 50% maturity\n",
      "* Age specific fecundity\n",
      "* Carrying capacity (total adults)\n",
      "* Compensatory strength - fecundity\n",
      "* Compensatory strength - age at 50% maturity\n",
      "* Compensatory strength - adult natural mortality\n",
      "* Age specific catchability\n"
     ]
    },
    {
     "cell_type": "code",
     "collapsed": false,
     "input": [
      "s_a = StockAssumptions([0.50, 0.50, 0.50, 0.50, 0.50, 0.50, 0.50],\n",
      "                       5,\n",
      "                       [2500, 7500, 15000, 20000, 22500, 27500, 32500],\n",
      "                       500000,\n",
      "                       2,\n",
      "                       0.25,\n",
      "                       1,\n",
      "                       [0.00001, 0.00002, 0.000025, 0.000025, 0.000025, 0.000025, 0.000025])"
     ],
     "language": "python",
     "metadata": {},
     "outputs": []
    },
    {
     "cell_type": "markdown",
     "metadata": {},
     "source": [
      "Specify environment assumptions:\n",
      "* Spawning areas\n",
      "* Habitat types\n",
      "* Risk areas"
     ]
    },
    {
     "cell_type": "code",
     "collapsed": false,
     "input": [
      "e_a = EnvironmentAssumptions(readdlm(Pkg.dir(\"FishABM\")\"/examples/LakeHuron_1km_spawning.csv\", ',', Bool)[150:end, 200:370],\n",
      "                             readdlm(Pkg.dir(\"FishABM\")\"/examples/LakeHuron_1km_habitat.csv\", ',', Int)[150:end, 200:370],\n",
      "                             readdlm(Pkg.dir(\"FishABM\")\"/examples/LakeHuron_1km_risk.csv\", ',', Bool)[150:end, 200:370])\n",
      "\n",
      "PadEnvironmentAssumptions!(e_a)"
     ],
     "language": "python",
     "metadata": {},
     "outputs": []
    },
    {
     "cell_type": "markdown",
     "metadata": {},
     "source": [
      "Specify agent assumptions:\n",
      "* Weekly natural mortality rate (by habitat type in the rows, and stage in the columns)\n",
      "* Weekly risk mortality (by stage)\n",
      "* Stage length (in weeks)\n",
      "* Movement weight matrices"
     ]
    },
    {
     "cell_type": "code",
     "collapsed": false,
     "input": [
      "a_a = AgentAssumptions([[0.90 0.10 0.10]\n",
      "                        [0.10 0.10 0.10]\n",
      "                        [0.90 0.10 0.10]\n",
      "                        [0.90 0.90 0.10]\n",
      "                        [0.90 0.90 0.90]\n",
      "                        [0.90 0.90 0.90]],\n",
      "                        [0.0, 0.0, 0.0],\n",
      "                        [19, 52, 104],\n",
      "                        Array[[[0. 0. 0.]\n",
      "                               [0. 1. 0.]\n",
      "                               [0. 0. 0.]]\n",
      "                              [[1. 4. 3.]\n",
      "                               [1. 6. 2.]\n",
      "                               [1. 2. 2.]]\n",
      "                              [[1. 3. 2.]\n",
      "                               [1. 3. 2.]\n",
      "                               [1. 2. 2.]]])"
     ],
     "language": "python",
     "metadata": {},
     "outputs": []
    },
    {
     "cell_type": "markdown",
     "metadata": {},
     "source": [
      "Initialize stock database:\n",
      "* Initial population distribution\n",
      "* Empty harvest dataset"
     ]
    },
    {
     "cell_type": "code",
     "collapsed": false,
     "input": [
      "s_db = StockDB(DataFrame(age_2=200000,\n",
      "                         age_3=100000,\n",
      "                         age_4=50000,\n",
      "                         age_5=30000,\n",
      "                         age_6=20000,\n",
      "                         age_7=10000,\n",
      "                         age_8=5000),\n",
      "               DataFrame(age_2=Int[],\n",
      "                         age_3=Int[],\n",
      "                         age_4=Int[],\n",
      "                         age_5=Int[],\n",
      "                         age_6=Int[],\n",
      "                         age_7=Int[],\n",
      "                         age_8=Int[]))"
     ],
     "language": "python",
     "metadata": {},
     "outputs": []
    },
    {
     "cell_type": "markdown",
     "metadata": {},
     "source": [
      "Begin life cycle simulation, specifying:\n",
      "* Simulation length (years)\n",
      "* Annual fishing effort (vector with length matching the simulation length)\n",
      "\n",
      "And indicating the previously specified objects:\n",
      "* Stock database\n",
      "* Stock assumptions\n",
      "* Agent assumptions\n",
      "* Environment assumptions\n"
     ]
    },
    {
     "cell_type": "code",
     "collapsed": false,
     "input": [
      "a_db = Simulate(5, fill(0., 5), s_db, s_a, a_a, e_a, false, false)"
     ],
     "language": "python",
     "metadata": {},
     "outputs": []
    }
   ],
   "metadata": {}
  }
 ]
}